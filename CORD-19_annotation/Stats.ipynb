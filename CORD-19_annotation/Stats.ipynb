{
 "cells": [
  {
   "cell_type": "code",
   "execution_count": 1,
   "id": "dee90e75-3385-4e06-aea6-deb0132a3d65",
   "metadata": {},
   "outputs": [],
   "source": [
    "import pysolr"
   ]
  },
  {
   "cell_type": "code",
   "execution_count": 2,
   "id": "be827831-7bd3-41b3-b209-cd4d1fb6a5d1",
   "metadata": {},
   "outputs": [],
   "source": [
    "solr = pysolr.Solr('http://librairy.linkeddata.es/solr/cord19-paragraphs', always_commit=True, timeout=50)"
   ]
  },
  {
   "cell_type": "code",
   "execution_count": 9,
   "id": "e67b8835-7f13-4a50-bfcf-ac489e467ac5",
   "metadata": {},
   "outputs": [],
   "source": [
    "foo = solr.search(q=\"biobert_disease_ents:*\")"
   ]
  },
  {
   "cell_type": "markdown",
   "id": "2d349d49-dc14-4f2a-b525-4b479cc426d6",
   "metadata": {},
   "source": [
    "# Diseases"
   ]
  },
  {
   "cell_type": "code",
   "execution_count": 5,
   "id": "c7d4e179-2550-407f-84ac-e6a08cfadc71",
   "metadata": {},
   "outputs": [],
   "source": [
    "paragraphs = solr.search(q=\"biobert_disease_ents:*\", rows=6000000)"
   ]
  },
  {
   "cell_type": "code",
   "execution_count": 6,
   "id": "f3eae397-12c2-4a9c-a29b-7afedb6851f9",
   "metadata": {},
   "outputs": [
    {
     "data": {
      "text/plain": [
       "1167906"
      ]
     },
     "execution_count": 6,
     "metadata": {},
     "output_type": "execute_result"
    }
   ],
   "source": [
    "len(paragraphs)"
   ]
  },
  {
   "cell_type": "code",
   "execution_count": 21,
   "id": "ab5ab16a-2e1b-41ef-a430-11a4febc3b17",
   "metadata": {},
   "outputs": [
    {
     "name": "stdout",
     "output_type": "stream",
     "text": [
      "Nº of Diseases annotated: 3677866\n",
      "Nº of Diseases normalized: 3199688\n"
     ]
    }
   ],
   "source": [
    "n_diseases = 0\n",
    "n_diseases_normalized = 0\n",
    "for p in paragraphs:\n",
    "    n_diseases += len(p['biobert_disease_ents'])\n",
    "    if 'biobert_disease_normalized_term' in p:\n",
    "        n_diseases_normalized += len(p['biobert_disease_normalized_term'])\n",
    "\n",
    "print(\"Nº of Diseases annotated: %s\" % n_diseases)\n",
    "print(\"Nº of Diseases normalized: %s\" %n_diseases_normalized)"
   ]
  },
  {
   "cell_type": "markdown",
   "id": "23fbb69f-33e1-4f22-bbd4-05757a1558e4",
   "metadata": {},
   "source": [
    "# Chemicals"
   ]
  },
  {
   "cell_type": "code",
   "execution_count": 22,
   "id": "92985f38-b584-456e-b773-d8a58d2d60c5",
   "metadata": {},
   "outputs": [],
   "source": [
    "paragraphs = solr.search(q=\"biobert_chemical_ents:*\", rows=6000000)"
   ]
  },
  {
   "cell_type": "code",
   "execution_count": 23,
   "id": "090484e2-68f2-442b-8092-c94369fe8068",
   "metadata": {},
   "outputs": [
    {
     "data": {
      "text/plain": [
       "373295"
      ]
     },
     "execution_count": 23,
     "metadata": {},
     "output_type": "execute_result"
    }
   ],
   "source": [
    "len(paragraphs)"
   ]
  },
  {
   "cell_type": "code",
   "execution_count": 25,
   "id": "b7761d5a-077e-4c66-ac3d-b468d7df38c6",
   "metadata": {},
   "outputs": [
    {
     "name": "stdout",
     "output_type": "stream",
     "text": [
      "Nº of Chemicals annotated: 1020795\n",
      "Nº of Chemcials normalized: 893324\n"
     ]
    }
   ],
   "source": [
    "n_chemicals = 0\n",
    "n_chemicals_normalized = 0\n",
    "for p in paragraphs:\n",
    "    n_chemicals += len(p['biobert_chemical_ents'])\n",
    "    if 'biobert_chemical_normalized_term' in p:\n",
    "        n_chemicals_normalized += len(p['biobert_chemical_normalized_term'])\n",
    "\n",
    "print(\"Nº of Chemicals annotated: %s\" % n_chemicals)\n",
    "print(\"Nº of Chemcials normalized: %s\" %n_chemicals_normalized)"
   ]
  },
  {
   "cell_type": "markdown",
   "id": "c2a3fb16-f3f4-4e09-91ee-3e1c43db4b2e",
   "metadata": {},
   "source": [
    "# Genetics"
   ]
  },
  {
   "cell_type": "code",
   "execution_count": 26,
   "id": "98bb74b2-5052-4816-b817-736506858137",
   "metadata": {},
   "outputs": [],
   "source": [
    "paragraphs = solr.search(q=\"biobert_genetic_ents:*\", rows=6000000)"
   ]
  },
  {
   "cell_type": "code",
   "execution_count": 27,
   "id": "2db2b63b-7b55-46c5-912f-e1d14f2a7409",
   "metadata": {},
   "outputs": [
    {
     "data": {
      "text/plain": [
       "427244"
      ]
     },
     "execution_count": 27,
     "metadata": {},
     "output_type": "execute_result"
    }
   ],
   "source": [
    "len(paragraphs)"
   ]
  },
  {
   "cell_type": "code",
   "execution_count": 28,
   "id": "dcf47f6b-9cb3-4e91-b5ec-1dce581cdc81",
   "metadata": {},
   "outputs": [
    {
     "name": "stdout",
     "output_type": "stream",
     "text": [
      "Nº of genetic annotated: 1778047\n",
      "Nº of genetic normalized: 1413816\n"
     ]
    }
   ],
   "source": [
    "n_genetic = 0\n",
    "n_genetic_normalized = 0\n",
    "for p in paragraphs:\n",
    "    n_genetic += len(p['biobert_genetic_ents'])\n",
    "    if 'biobert_genetic_normalized_term' in p:\n",
    "        n_genetic_normalized += len(p['biobert_genetic_normalized_term'])\n",
    "\n",
    "print(\"Nº of genetic annotated: %s\" % n_genetic)\n",
    "print(\"Nº of genetic normalized: %s\" %n_genetic_normalized)"
   ]
  },
  {
   "cell_type": "code",
   "execution_count": null,
   "id": "2beef19f-2557-40c8-a373-ddf51982479b",
   "metadata": {},
   "outputs": [],
   "source": []
  },
  {
   "cell_type": "code",
   "execution_count": 29,
   "id": "3c7704b0-dd51-4895-a010-af83eb126b3a",
   "metadata": {},
   "outputs": [],
   "source": [
    "paragraphs = solr.search(q=\"biobert_covid_normalized_term:*\", rows=6000000)"
   ]
  },
  {
   "cell_type": "code",
   "execution_count": 30,
   "id": "a1c81201-d1a3-4ee3-8d57-c536699b8f63",
   "metadata": {},
   "outputs": [
    {
     "data": {
      "text/plain": [
       "103634"
      ]
     },
     "execution_count": 30,
     "metadata": {},
     "output_type": "execute_result"
    }
   ],
   "source": [
    "len(paragraphs)"
   ]
  },
  {
   "cell_type": "code",
   "execution_count": 33,
   "id": "2852cbc6-2914-4f5a-988e-bb881d3fcd27",
   "metadata": {},
   "outputs": [
    {
     "name": "stdout",
     "output_type": "stream",
     "text": [
      "Nº of covid normalized: 160910\n"
     ]
    }
   ],
   "source": [
    "n_covid_normalized = 0\n",
    "\n",
    "for p in paragraphs:\n",
    "    if 'biobert_covid_normalized_term' in p:\n",
    "        n_covid_normalized += len(p['biobert_covid_normalized_term'])\n",
    "\n",
    "print(\"Nº of covid normalized: %s\" %n_covid_normalized)"
   ]
  },
  {
   "cell_type": "code",
   "execution_count": null,
   "id": "61e8831e-05a9-4c0b-b36d-4db9e5046e03",
   "metadata": {},
   "outputs": [],
   "source": []
  }
 ],
 "metadata": {
  "kernelspec": {
   "display_name": "Python (biobert)",
   "language": "python",
   "name": "biobert"
  },
  "language_info": {
   "codemirror_mode": {
    "name": "ipython",
    "version": 3
   },
   "file_extension": ".py",
   "mimetype": "text/x-python",
   "name": "python",
   "nbconvert_exporter": "python",
   "pygments_lexer": "ipython3",
   "version": "3.8.8"
  }
 },
 "nbformat": 4,
 "nbformat_minor": 5
}
